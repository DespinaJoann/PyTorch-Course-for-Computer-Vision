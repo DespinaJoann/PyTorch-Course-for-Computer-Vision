{
  "nbformat": 4,
  "nbformat_minor": 0,
  "metadata": {
    "colab": {
      "provenance": [],
      "gpuType": "T4"
    },
    "kernelspec": {
      "name": "python3",
      "display_name": "Python 3"
    },
    "language_info": {
      "name": "python"
    },
    "accelerator": "GPU"
  },
  "cells": [
    {
      "cell_type": "markdown",
      "source": [
        "# **Hugging Face 🤗 and Vision Transformers for Image Classification**\n",
        "\n",
        "\n",
        "---\n"
      ],
      "metadata": {
        "id": "NLTR76kyrWmn"
      }
    },
    {
      "cell_type": "markdown",
      "source": [
        "\n",
        "# **A Brief Introduction to Hugging Face 🤗**\n",
        "\n",
        "Hugging Face is an AI and machine learning platform that provides easy-to-use tools, libraries, and a community-driven repository for sharing models, datasets, and code. While Hugging Face is best known for its contributions to natural language processing (NLP), it also supports a wide range of tasks, including computer vision and audio processing.\n",
        "\n",
        "#### **How Hugging Face Works**\n",
        "\n",
        "Hugging Face focuses on three main areas:\n",
        "\n",
        "- **Model Hub**: This is a central repository that hosts thousands of pre-trained models for different tasks such as NLP, vision, and audio. You can easily load these models and fine-tune them for your specific needs.\n",
        "  \n",
        "- **Transformers Library**: This library offers APIs to load, train, and fine-tune a variety of popular machine learning models, including architectures like BERT, GPT, and Vision Transformers (ViT).\n",
        "\n",
        "- **Datasets Library**: Hugging Face provides access to a wide range of curated datasets, simplifying the process of loading and preparing data for machine learning tasks.\n",
        "\n",
        "> #### **Quick Start with Hugging Face**\n",
        ">\n",
        "> Hugging Face makes it incredibly easy to start experimenting with state-of-the-art models. Here’s how:\n",
        "> 1. **Select a pre-trained model** from the Hugging Face Model Hub.\n",
        "> 2. **Load the model** along with its tokenizer or feature extractor.\n",
        "> 3. **Apply the model** to tasks such as classification, text generation, or image recognition.\n",
        "> 4. **Fine-tune or deploy** the model to customize it for your specific needs.\n",
        "> *In just a few simple steps, you're ready to explore and experiment with cutting-edge AI models!*\n",
        "\n",
        "#### **Why Use Hugging Face?**\n",
        "\n",
        "Here are some reasons why Hugging Face is an excellent choice for machine learning:\n",
        "\n",
        "- **Access to pre-trained models**: Hugging Face offers thousands of pre-trained models, which can save you significant time and computing resources when starting new projects.\n",
        "  \n",
        "- **Easy model sharing**: The platform allows researchers and developers to easily share their models and datasets, or use those created by others.\n",
        "\n",
        "- **Support for a wide range of tasks**: Hugging Face models cover tasks like NLP, vision, and audio, allowing you to work across multiple domains with ease.\n",
        "\n",
        "- **Preprocessing tools**: The Hugging Face `transformers` and `datasets` libraries include built-in tools for tokenization, feature extraction, and data preparation, making the development process smoother.\n",
        "\n",
        "- **Strong community and support**: Hugging Face has an active community, extensive documentation, and plenty of examples to help you get started quickly.\n",
        "\n",
        "#### **Key Takeaways Before Moving to the Code**\n",
        "\n",
        "1. **Pre-trained models**: Hugging Face offers models trained on large datasets (e.g., BERT, GPT, ViT), which can be fine-tuned for your specific tasks.\n",
        "  \n",
        "2. **Model Hub**: The Model Hub is organized by tasks like NLP and computer vision, and each model comes with detailed documentation on how to use it.\n",
        "\n",
        "3. **Transformers Library**: This is the core of Hugging Face. It enables easy access to models for text generation, classification, translation, and tasks like image classification using Vision Transformers (ViT).\n",
        "\n",
        "4. **Training and fine-tuning**: Hugging Face provides tools like the `Trainer` API, which simplifies the process of training and fine-tuning models on custom datasets.\n",
        "\n",
        "---"
      ],
      "metadata": {
        "id": "T-68n8GWt7l5"
      }
    },
    {
      "cell_type": "markdown",
      "source": [
        "# **Creating an Account on Hugging Face and Setting It Up in Google Colab.**\n",
        "\n",
        "Now, let’s prepare the environment so that we’re fully equipped to dive into the tutorial. By following the steps outlined below, we will ensure that all the necessary libraries and configurations are in place. This setup will allow you to seamlessly follow along and make the most out of the Hugging Face tools and resources we’ll be using. Getting everything ready now will save time later and help you focus on learning and experimenting with cutting-edge AI models!\n",
        "\n",
        "#### **Step 1: Create a Hugging Face Account.**\n",
        "1. **Visit Hugging Face**: Go to the [Hugging Face](https://huggingface.co/) website.\n",
        "2. **Sign Up**:\n",
        "    - Click on the Sign Up button in the top right corner.\n",
        "    - Fill in your email, username, and create a password.\n",
        "    - Alternatively, you can sign up using your GitHub or Google account for quicker access.\n",
        "3. **Verify Your Email**: After registering, you will receive a verification email. Click the link in the email to activate your Hugging Face account.\n",
        "\n",
        "#### **Step 2: Generate an `API` Token on Hugging Face**\n",
        "To use Hugging Face in Google Colab, you will need to generate an API token.\n",
        "1. **Go to Your Profile**: Once logged in, click on your profile picture (top right) and select Settings.\n",
        "2. **Access `API` Tokens**: In the left menu, click on Access Tokens.\n",
        "3. **Generate a New Token**:\n",
        "    - Click on the New Token button.\n",
        "    - Give it a name, like \"Google Colab\".\n",
        "    - Set the permissions to Read if you only need to access data, or Write if you want to upload models/datasets.\n",
        "    - Click Generate and copy the token.\n",
        "\n",
        "\n",
        "#### **Step 3: Set Up Hugging Face in Google Colab.**\n",
        "Now, let's set up the environment to be ready for the tutorial.\n",
        "1. **Open Google Colab**: Go to [Google Colab](https://colab.research.google.com/) and create a new notebook.\n",
        "2. **Install the `transformers` Library**: Run the following command in a new cell to install the Hugging Face libraries:"
      ],
      "metadata": {
        "id": "i-rTfm180gjQ"
      }
    },
    {
      "cell_type": "code",
      "source": [
        "!pip install transformers datasets"
      ],
      "metadata": {
        "id": "auR7F-wXS9y2"
      },
      "execution_count": null,
      "outputs": []
    },
    {
      "cell_type": "markdown",
      "source": [
        "\n",
        "3. **Log in to Hugging Face in Colab**: Use your API token to log in:\n"
      ],
      "metadata": {
        "id": "i3NsIZLpTG1K"
      }
    },
    {
      "cell_type": "code",
      "source": [
        "# from huggingface_hub import login\n",
        "# login(token=\"your_api_token_here\")"
      ],
      "metadata": {
        "id": "io5yfJeaS-oa"
      },
      "execution_count": null,
      "outputs": []
    },
    {
      "cell_type": "markdown",
      "source": [
        "4. **Test the Setup**: You can now load and use pre-trained models from Hugging Face. For example:\n"
      ],
      "metadata": {
        "id": "M5RSYe-JTH1O"
      }
    },
    {
      "cell_type": "code",
      "source": [
        "from transformers import pipeline\n",
        "# Load a sentiment-analysis pipeline\n",
        "classifier = pipeline(\"sentiment-analysis\")\n",
        "# Test with sample text\n",
        "result = classifier(\"Hugging Face is amazing!\")\n",
        "print(result)"
      ],
      "metadata": {
        "id": "Kv5S82GlTCHC"
      },
      "execution_count": null,
      "outputs": []
    },
    {
      "cell_type": "markdown",
      "source": [
        "\n",
        "   This will output the sentiment classification for the input text.\n",
        "\n",
        "#### **You're All Set!**\n",
        "\n",
        "Now you can start using Hugging Face models and datasets directly from Google Colab! Whether you're working on natural language processing, computer vision, or audio tasks, Hugging Face makes it easy to experiment with cutting-edge AI models quickly and efficiently.\n",
        "\n",
        "---\n",
        "\n"
      ],
      "metadata": {
        "id": "K95MRKBBTqOf"
      }
    },
    {
      "cell_type": "markdown",
      "source": [
        "\n",
        "# **Hugging Face with Vision Transformers**\n",
        "\n",
        "In this section, we will explore how to leverage Hugging Face’s capabilities with Vision Transformers (ViTs). These models have revolutionized computer vision tasks, and Hugging Face provides an easy-to-use interface for accessing and deploying them.\n",
        "\n",
        "#### **1. The Library with Pre-trained Models.**\n",
        "Hugging Face’s `transformers` library includes a variety of pre-trained Vision Transformer models. These models have been trained on large datasets, making them effective for various computer vision tasks such as image classification, object detection, and segmentation.\n",
        "\n",
        "#### **2. How to Load the Model.**\n",
        "To load a Vision Transformer model in Hugging Face, you can use the following code snippet:\n",
        "\n",
        "```python\n",
        "from transformers import AutoModelForImageClassification, AutoTokenizer\n",
        "\n",
        "# Load the model and tokenizer\n",
        "model_name = \"google/vit-base-patch16-224-in21k\"  # Example model\n",
        "model = AutoModelForImageClassification.from_pretrained(model_name)\n",
        "tokenizer = AutoTokenizer.from_pretrained(model_name)\n",
        "```\n",
        "\n",
        "This code allows you to easily access pre-trained weights and configuration for the selected model.\n",
        "\n",
        "#### **3. Built-in Functions and Automations Explained.**\n",
        "Hugging Face provides a range of built-in functions that simplify common tasks. For example:\n",
        "- **Preprocessing**: The library includes functions for resizing, normalizing, and augmenting images.\n",
        "- **Inference**: Use the `pipeline` API to quickly run inference on images without needing to set up complex workflows.\n",
        "- **Evaluation Metrics**: The library provides easy access to standard metrics for evaluating model performance, such as accuracy and F1 score.\n",
        "\n",
        "#### **4. Why Use Hugging Face's Automations Instead of Your Own Code?**\n",
        "Using Hugging Face's built-in functions and automations can save you significant time and effort. Here are a few reasons to consider:\n",
        "- **Simplicity**: Hugging Face abstracts away the complexity, allowing you to focus on your tasks rather than the underlying implementation.\n",
        "- **Community Support**: The library is continuously updated by the community, providing bug fixes and new features regularly.\n",
        "- **Standardization**: By using established functions, you ensure consistency in your code and results, making it easier to share and collaborate with others.\n",
        "\n",
        "#### **5. How to Create a Supported Dataset for Hugging Face.**\n",
        "Creating a dataset that is compatible with Hugging Face involves the following steps:\n",
        "1. **Collect and Organize Your Data**: Ensure your images are stored in a structured format, such as separate folders for different classes.\n",
        "2. **Use the `datasets` Library**: Leverage Hugging Face’s `datasets` library to load and preprocess your images. For example:\n",
        "   ```python\n",
        "   from datasets import load_dataset\n",
        "   dataset = load_dataset(\"imagefolder\", data_dir=\"path_to_your_dataset\")\n",
        "   ```\n",
        "\n",
        "3. **Preprocess the Images**: Apply any necessary transformations (e.g., resizing, normalization) to prepare your dataset for training or evaluation.\n",
        "4. **Split the Dataset**: Divide your dataset into training, validation, and test sets to ensure effective model training and evaluation.\n",
        "\n",
        "---\n",
        "\n"
      ],
      "metadata": {
        "id": "XfNL6Fdc7KxI"
      }
    },
    {
      "cell_type": "markdown",
      "source": [
        "# **A Practical Example.**\n",
        "# Fine-Tunning  ViT on the CIFAR-10 Dataset.\n",
        "\n",
        "Vision Transformers (ViTs) apply transformer models to image data and have achieved state-of-the-art results in image classification tasks. They work by dividing images into patches, processing them like sequences of tokens, and using self-attention mechanisms to learn relationships between the patches.\n",
        "\n",
        "Let's intall the libraries:"
      ],
      "metadata": {
        "id": "Oge-cnBd763t"
      }
    },
    {
      "cell_type": "code",
      "execution_count": null,
      "metadata": {
        "id": "wHIccd-Zqw9l"
      },
      "outputs": [],
      "source": [
        "!pip install -q transformers datasets"
      ]
    },
    {
      "cell_type": "markdown",
      "source": [
        "Import the required packages and check GPU availability"
      ],
      "metadata": {
        "id": "tM3hiy30A4ep"
      }
    },
    {
      "cell_type": "code",
      "source": [
        "import torch\n",
        "from transformers import ViTForImageClassification, TrainingArguments, Trainer\n",
        "import torchvision.transforms as transforms\n",
        "from sklearn.metrics import accuracy_score\n",
        "import numpy as np\n",
        "\n",
        "# Check if a GPU is available\n",
        "torch.cuda.is_available()"
      ],
      "metadata": {
        "id": "7xcR40FBAgST"
      },
      "execution_count": null,
      "outputs": []
    },
    {
      "cell_type": "markdown",
      "source": [
        "Let's import our model! For this tutorial we will use the classic `ViT-base-patch-16`, the fenomenon model that revolutionized Computer Vision, with state of the art performance. This model pretrained in the huge `ImagNet-21` dataset from google."
      ],
      "metadata": {
        "id": "jQSeMQm2ePuk"
      }
    },
    {
      "cell_type": "code",
      "source": [
        "model_name = \"google/vit-base-patch16-224-in21k\"\n",
        "# Load the pre-trained ViT model for image classification\n",
        "model = ViTForImageClassification.from_pretrained(\n",
        "    model_name,                           # Pre-trained on ImageNet21k\n",
        "    num_labels=102,                       # Oxford Flowers 102 has 102 classes\n",
        ")\n",
        "print(model.classifier)"
      ],
      "metadata": {
        "id": "ml58TOgmglGK"
      },
      "execution_count": null,
      "outputs": []
    },
    {
      "cell_type": "markdown",
      "source": [
        "Prepare the dataset"
      ],
      "metadata": {
        "id": "uLrIZP92BEwe"
      }
    },
    {
      "cell_type": "code",
      "source": [
        "import torchvision.transforms as transforms\n",
        "import torchvision\n",
        "import torch\n",
        "from datasets import Dataset, DatasetDict\n",
        "from transformers import ViTFeatureExtractor\n",
        "from PIL import Image\n",
        "\n",
        "# Define some Hyperparameters\n",
        "batch_size = 32\n",
        "num_classes = 102\n",
        "num_epochs = 30\n",
        "\n",
        "# Define some data Augmentations and transformations for the images\n",
        "train_transforms = transforms.Compose([\n",
        "    transforms.Resize((224,224)),               # Resize the image to 224x224\n",
        "    transforms.RandomResizedCrop(224),          # Randomly crop the image\n",
        "    transforms.RandomHorizontalFlip(),          # Randomly flip the image to the horizontal axis\n",
        "    transforms.ColorJitter(brightness=0.2, contrast=0.2, saturation=0.2, hue=0.2),  # Randomly change the brightness, the contrast and hue\n",
        "\n",
        "    # Transform to Tensor and Normalize the values\n",
        "    transforms.ToTensor(),\n",
        "    transforms.Normalize(mean=[0.485, 0.456, 0.406], std=[0.229, 0.224, 0.225])\n",
        "])\n",
        "\n",
        "eval_transforms = transforms.Compose([\n",
        "    transforms.Resize((224,224)),\n",
        "    transforms.ToTensor(),\n",
        "    transforms.Normalize(mean=[0.485, 0.456, 0.406], std=[0.229, 0.224, 0.225])  # Normalization\n",
        "])\n",
        "\n",
        "# Load the datasets\n",
        "train_dataset = torchvision.datasets.Flowers102(root='./data', split=\"train\", transform=train_transforms, download=True)\n",
        "valid_dataset = torchvision.datasets.Flowers102(root='./data', split=\"val\", transform=eval_transforms, download=True)\n",
        "test_dataset = torchvision.datasets.Flowers102(root='./data', split=\"test\", transform=eval_transforms, download=True)\n",
        "\n",
        "# Convert to Hugging Face Dataset\n",
        "def create_huggingface_dataset(dataset):\n",
        "    images = []\n",
        "    labels = []\n",
        "    for img, label in dataset:\n",
        "        # Convert tensor back to PIL Image for compatibility with feature extractor\n",
        "        img = transforms.ToPILImage()(img)\n",
        "        images.append(img)\n",
        "        labels.append(label)\n",
        "    return Dataset.from_dict({\"image\": images, \"label\": labels})\n",
        "\n",
        "train_dataset_hf = create_huggingface_dataset(train_dataset)\n",
        "valid_dataset_hf = create_huggingface_dataset(valid_dataset)"
      ],
      "metadata": {
        "id": "-pZKzv8sBLkR"
      },
      "execution_count": null,
      "outputs": []
    },
    {
      "cell_type": "markdown",
      "source": [
        "Now, lets prepare the inputs to the model, for this we will use the `ViTFeatureExtractor`"
      ],
      "metadata": {
        "id": "7PENySGYc_04"
      }
    },
    {
      "cell_type": "code",
      "source": [
        "from transformers import ViTImageProcessor\n",
        "# Load the ViT Feature extract\n",
        "feature_extractor = ViTImageProcessor.from_pretrained(\"google/vit-base-patch16-224-in21k\")\n",
        "\n",
        "# Prepare the data\n",
        "# Define a preprocessing function to apply feature extractor\n",
        "def preprocess_images(examples):\n",
        "    # Apply the feature extractor for each image\n",
        "    inputs = feature_extractor([image for image in examples['image']], return_tensors='pt')\n",
        "    inputs['label'] = examples['label']\n",
        "    return inputs\n",
        "# Apply preprocessing function to train and validation sets\n",
        "train_dataset_hf = train_dataset_hf.map(preprocess_images, batched=True)\n",
        "valid_dataset_hf = valid_dataset_hf.map(preprocess_images, batched=True)\n",
        "\n",
        "# Set the format to PyTorch tensors for easier integration\n",
        "train_dataset_hf.set_format(type='torch', columns=['pixel_values', 'label'])\n",
        "valid_dataset_hf.set_format(type='torch', columns=['pixel_values', 'label'])\n",
        "\n",
        "# Create a DatasetDict for the trainer\n",
        "flowers_hf_dataset = DatasetDict({\n",
        "    \"train\": train_dataset_hf,\n",
        "    \"validation\": valid_dataset_hf,\n",
        "})\n"
      ],
      "metadata": {
        "id": "RPBKYrBCc8SP"
      },
      "execution_count": null,
      "outputs": []
    },
    {
      "cell_type": "code",
      "source": [
        "from transformers import Trainer, TrainingArguments, EarlyStoppingCallback\n",
        "from sklearn.metrics import accuracy_score\n",
        "import numpy as np\n",
        "\n",
        "# Training arguments, including early stopping and other settings\n",
        "training_args = TrainingArguments(\n",
        "    output_dir=\"./results-oxFl102\",             # Output directory for model\n",
        "    eval_strategy=\"epoch\",                # Evaluate at the end of each epoch\n",
        "    learning_rate=2e-5,                         # Lower learning rate for fine-tuning\n",
        "    per_device_train_batch_size=32,             # Batch size for training\n",
        "    per_device_eval_batch_size=32,              # Batch size for evaluation\n",
        "    num_train_epochs=num_epochs,                # Number of epochs to train\n",
        "    weight_decay=0.01,                          # Weight decay for regularization\n",
        "    metric_for_best_model=\"accuracy\",           # Track the best model based on accuracy\n",
        "    load_best_model_at_end=True,                # Load the best model after training\n",
        "    save_strategy=\"epoch\",                      # Save model checkpoint at the end of each epoch\n",
        "    logging_dir=\"./logs\",                       # Directory for logs\n",
        "    logging_steps=10,                           # Log every 10 steps\n",
        "    save_total_limit=2,                         # Save only the 2 best models\n",
        ")\n",
        "\n",
        "# Add early stopping callback to stop training when no improvement is observed\n",
        "early_stopping_callback = EarlyStoppingCallback(\n",
        "    early_stopping_patience=10,   # Stop after 2 epochs with no improvement\n",
        "    early_stopping_threshold=0.01 # Minimum improvement threshold\n",
        ")\n",
        "\n",
        "\n",
        "# Create a function that computes the accuracy score\n",
        "def compute_metrics(eval_pred):\n",
        "    predictions, labels = eval_pred\n",
        "    predictions = np.argmax(predictions, axis=1)\n",
        "    return dict(accuracy=accuracy_score(predictions, labels))\n",
        "\n",
        "\n",
        "# Initialize the Trainer with the model, data, and training arguments\n",
        "trainer = Trainer(\n",
        "    model=model,\n",
        "    args=training_args,\n",
        "    train_dataset=flowers_hf_dataset[\"train\"],\n",
        "    eval_dataset=flowers_hf_dataset[\"validation\"],\n",
        "    tokenizer=feature_extractor,               # ViT uses image processor as tokenizer\n",
        "    compute_metrics=compute_metrics,         # Function to compute metrics\n",
        "    callbacks=[early_stopping_callback]      # Add early stopping\n",
        ")"
      ],
      "metadata": {
        "id": "ZiS19f1MeK5q"
      },
      "execution_count": null,
      "outputs": []
    },
    {
      "cell_type": "markdown",
      "source": [
        "Now, we are ready to train our model! The only thing that we must do is to pass all of this along with our datasets to the `Trainer`"
      ],
      "metadata": {
        "id": "0y9m1DWSiwru"
      }
    },
    {
      "cell_type": "code",
      "source": [
        "# Train the model (fine-tuning)\n",
        "eval_results = trainer.train()"
      ],
      "metadata": {
        "id": "Tc_23-JSi_Zi"
      },
      "execution_count": null,
      "outputs": []
    },
    {
      "cell_type": "code",
      "source": [
        "list(eval_results)"
      ],
      "metadata": {
        "id": "q3nDeTkVc1hl"
      },
      "execution_count": null,
      "outputs": []
    },
    {
      "cell_type": "markdown",
      "source": [
        "After training your Vision Transformer (`ViT`) model using the Trainer from the Hugging Face transformers library, we can easily evaluate its performance on the test set. Here’s how we can do that:"
      ],
      "metadata": {
        "id": "cq1bJtcP8D4X"
      }
    },
    {
      "cell_type": "code",
      "source": [
        "test_dataset_hf = create_huggingface_dataset(test_dataset)\n",
        "test_dataset_hf = test_dataset_hf.map(preprocess_images, batched=True)\n",
        "outputs = trainer.predict(test_dataset_hf)"
      ],
      "metadata": {
        "id": "SJcCxzZY2mC4"
      },
      "execution_count": null,
      "outputs": []
    },
    {
      "cell_type": "markdown",
      "source": [
        "Also, let's create a confusion matrix to have a clearer-visualized understanding of what we achived after the fine-tuning proccess\n"
      ],
      "metadata": {
        "id": "cE07zmx1-9SC"
      }
    },
    {
      "cell_type": "code",
      "source": [
        "from sklearn.metrics import confusion_matrix, ConfusionMatrixDisplay\n",
        "\n",
        "y_true = outputs.label_ids\n",
        "y_pred = outputs.predictions.argmax(1)\n",
        "\n",
        "labels = train_ds.features['label'].names\n",
        "cm = confusion_matrix(y_true, y_pred)\n",
        "disp = ConfusionMatrixDisplay(confusion_matrix=cm, display_labels=labels)\n",
        "disp.plot(xticks_rotation=45)"
      ],
      "metadata": {
        "id": "u50egduRN0KD"
      },
      "execution_count": null,
      "outputs": []
    }
  ]
}